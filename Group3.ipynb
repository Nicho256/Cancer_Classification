{
  "cells": [
    {
      "cell_type": "code",
      "execution_count": null,
      "metadata": {
        "id": "b8Pz9WHX4ifb"
      },
      "outputs": [],
      "source": [
        "import os\n",
        "import numpy as np\n",
        "from sklearn.preprocessing import LabelEncoder\n",
        "from sklearn.model_selection import train_test_split\n",
        "from sklearn.metrics import classification_report\n",
        "from keras.preprocessing.image import ImageDataGenerator\n",
        "from keras.applications import VGG16\n",
        "from keras.layers import Input\n",
        "from keras.layers import Dense\n",
        "from keras.models import Model\n",
        "import tensorflow as tf"
      ]
    },
    {
      "cell_type": "code",
      "execution_count": null,
      "metadata": {
        "id": "rxBb4An34oId"
      },
      "outputs": [],
      "source": [
        "# specify the directories for the train, test, and validation datasets\n",
        "train_dir = '/content/drive/MyDrive/Cancer Detection Project/train'\n",
        "test_dir = '/content/drive/MyDrive/Cancer Detection Project/test'\n",
        "val_dir = '/content/drive/MyDrive/Cancer Detection Project/valid'\n"
      ]
    },
    {
      "cell_type": "code",
      "execution_count": null,
      "metadata": {
        "id": "XQl5iAaT4qOA"
      },
      "outputs": [],
      "source": [
        "# create a data generator for the train, test, and validation datasets\n",
        "train_datagen = ImageDataGenerator(rescale=1./255)\n",
        "test_datagen = ImageDataGenerator(rescale=1./255)\n",
        "val_datagen = ImageDataGenerator(rescale=1./255)"
      ]
    },
    {
      "cell_type": "code",
      "execution_count": null,
      "metadata": {
        "colab": {
          "base_uri": "https://localhost:8080/"
        },
        "id": "7dqlldgb4v27",
        "outputId": "c01c486b-5d51-4efc-9b5e-281f57969b42"
      },
      "outputs": [
        {
          "name": "stdout",
          "output_type": "stream",
          "text": [
            "Found 1460 images belonging to 6 classes.\n"
          ]
        }
      ],
      "source": [
        "# prepare the generators\n",
        "train_generator = train_datagen.flow_from_directory(\n",
        "    train_dir,\n",
        "    target_size=(224, 224),\n",
        "    batch_size=32,\n",
        "    class_mode='categorical')"
      ]
    },
    {
      "cell_type": "code",
      "execution_count": null,
      "metadata": {
        "colab": {
          "base_uri": "https://localhost:8080/"
        },
        "id": "75k5goX0ATYW",
        "outputId": "ef85cba6-3568-4cde-f190-f77bb273638d"
      },
      "outputs": [
        {
          "name": "stdout",
          "output_type": "stream",
          "text": [
            "Found 477 images belonging to 6 classes.\n"
          ]
        }
      ],
      "source": [
        "test_generator = test_datagen.flow_from_directory(\n",
        "    test_dir,\n",
        "    target_size=(224, 224),\n",
        "    batch_size=32,\n",
        "    class_mode='categorical')"
      ]
    },
    {
      "cell_type": "code",
      "execution_count": null,
      "metadata": {
        "colab": {
          "base_uri": "https://localhost:8080/"
        },
        "id": "o-UkRdWvAV79",
        "outputId": "b89a280b-4bd0-4e37-d8d2-c28fedcd2ac4"
      },
      "outputs": [
        {
          "name": "stdout",
          "output_type": "stream",
          "text": [
            "Found 142 images belonging to 6 classes.\n"
          ]
        }
      ],
      "source": [
        "val_generator = val_datagen.flow_from_directory(\n",
        "    val_dir,\n",
        "    target_size=(224, 224),\n",
        "    batch_size=32,\n",
        "    class_mode='categorical')"
      ]
    },
    {
      "cell_type": "code",
      "execution_count": null,
      "metadata": {
        "colab": {
          "base_uri": "https://localhost:8080/"
        },
        "id": "ZZk-ABYG4xeu",
        "outputId": "0016d846-d551-4aae-9734-fbebac749df5"
      },
      "outputs": [
        {
          "name": "stdout",
          "output_type": "stream",
          "text": [
            "Downloading data from https://storage.googleapis.com/tensorflow/keras-applications/vgg16/vgg16_weights_tf_dim_ordering_tf_kernels_notop.h5\n",
            "58889256/58889256 [==============================] - 1s 0us/step\n"
          ]
        }
      ],
      "source": [
        "# extract features using VGG16 model\n",
        "vgg = VGG16(weights='imagenet', include_top=False, input_tensor=Input(shape=(224, 224, 3)))"
      ]
    },
    {
      "cell_type": "code",
      "execution_count": 9,
      "metadata": {
        "colab": {
          "base_uri": "https://localhost:8080/"
        },
        "id": "EHx_OnKr40AU",
        "outputId": "ad6b7218-2a8b-406b-e5e7-e87a33614905"
      },
      "outputs": [
        {
          "output_type": "stream",
          "name": "stderr",
          "text": [
            "<ipython-input-9-92ddde6857a8>:1: UserWarning: `Model.predict_generator` is deprecated and will be removed in a future version. Please use `Model.predict`, which supports generators.\n",
            "  train_features = vgg.predict_generator(train_generator, steps=len(train_generator))\n"
          ]
        }
      ],
      "source": [
        "train_features = vgg.predict_generator(train_generator, steps=len(train_generator))\n"
      ]
    },
    {
      "cell_type": "code",
      "execution_count": null,
      "metadata": {
        "colab": {
          "base_uri": "https://localhost:8080/"
        },
        "id": "oXM6lBBADgFP",
        "outputId": "ae67a4af-ad72-4522-f5fc-17869d8d4a31"
      },
      "outputs": [
        {
          "name": "stderr",
          "output_type": "stream",
          "text": [
            "<ipython-input-10-e613130ff8f7>:1: UserWarning: `Model.predict_generator` is deprecated and will be removed in a future version. Please use `Model.predict`, which supports generators.\n",
            "  test_features = vgg.predict_generator(test_generator, steps=len(test_generator))\n"
          ]
        }
      ],
      "source": [
        "test_features = vgg.predict_generator(test_generator, steps=len(test_generator))"
      ]
    },
    {
      "cell_type": "code",
      "execution_count": null,
      "metadata": {
        "colab": {
          "base_uri": "https://localhost:8080/"
        },
        "id": "bhPtIuE5Dj0o",
        "outputId": "8ccb56a1-5c3d-4a41-efbf-3db7dd32e28e"
      },
      "outputs": [
        {
          "name": "stderr",
          "output_type": "stream",
          "text": [
            "<ipython-input-11-2c058fbae966>:1: UserWarning: `Model.predict_generator` is deprecated and will be removed in a future version. Please use `Model.predict`, which supports generators.\n",
            "  val_features = vgg.predict_generator(val_generator, steps=len(val_generator))\n"
          ]
        }
      ],
      "source": [
        "val_features = vgg.predict_generator(val_generator, steps=len(val_generator))"
      ]
    },
    {
      "cell_type": "code",
      "execution_count": null,
      "metadata": {
        "id": "8K67yUkoQV92"
      },
      "outputs": [],
      "source": [
        "# flatten the features\n",
        "train_features = np.reshape(train_features, (train_features.shape[0], 7*7*512))\n",
        "test_features = np.reshape(test_features, (test_features.shape[0], 7*7*512))\n",
        "val_features = np.reshape(val_features, (val_features.shape[0], 7*7*512))"
      ]
    },
    {
      "cell_type": "code",
      "execution_count": null,
      "metadata": {
        "id": "ZB1-sXdlQapO"
      },
      "outputs": [],
      "source": [
        "# encode the labels\n",
        "le = LabelEncoder()\n",
        "train_labels = le.fit_transform(train_generator.classes)\n",
        "test_labels = le.transform(test_generator.classes)\n",
        "val_labels = le.transform(val_generator.classes)"
      ]
    },
    {
      "cell_type": "code",
      "execution_count": null,
      "metadata": {
        "id": "SEcf3vNGpKOk"
      },
      "outputs": [],
      "source": [
        "from keras.utils import to_categorical\n",
        "\n",
        "# one-hot encode the labels\n",
        "train_labels = to_categorical(train_labels)\n",
        "val_labels = to_categorical(val_labels)\n",
        "test_labels = to_categorical(test_labels)"
      ]
    },
    {
      "cell_type": "code",
      "execution_count": null,
      "metadata": {
        "id": "ft7-M0kepies"
      },
      "outputs": [],
      "source": [
        "# create the model\n",
        "input_tensor = Input(shape=(7*7*512,))\n",
        "x = Dense(1024, activation='relu')"
      ]
    },
    {
      "cell_type": "code",
      "execution_count": null,
      "metadata": {
        "id": "R7DkvcTLpsDA"
      },
      "outputs": [],
      "source": [
        "x = Dense(1024, activation='relu')(input_tensor)\n",
        "x = Dense(512, activation='relu')(x)\n",
        "output_tensor = Dense(6, activation='softmax')(x)\n"
      ]
    },
    {
      "cell_type": "code",
      "execution_count": null,
      "metadata": {
        "id": "ePscOXKMpwql"
      },
      "outputs": [],
      "source": [
        "model = Model(input_tensor, output_tensor)\n",
        "model.compile(optimizer='adam', loss='categorical_crossentropy', metrics=['accuracy'])\n"
      ]
    },
    {
      "cell_type": "code",
      "execution_count": null,
      "metadata": {
        "colab": {
          "base_uri": "https://localhost:8080/"
        },
        "id": "q4bG3HyLp0NQ",
        "outputId": "e9449371-a31f-456b-e94d-3748e2483c68"
      },
      "outputs": [
        {
          "name": "stdout",
          "output_type": "stream",
          "text": [
            "Epoch 1/50\n",
            "46/46 [==============================] - 6s 119ms/step - loss: 3.7232 - accuracy: 0.2507 - val_loss: 1.8223 - val_accuracy: 0.2606\n",
            "Epoch 2/50\n",
            "46/46 [==============================] - 6s 125ms/step - loss: 1.6097 - accuracy: 0.3349 - val_loss: 1.8795 - val_accuracy: 0.1408\n",
            "Epoch 3/50\n",
            "46/46 [==============================] - 6s 125ms/step - loss: 1.5695 - accuracy: 0.3534 - val_loss: 1.7686 - val_accuracy: 0.3803\n",
            "Epoch 4/50\n",
            "46/46 [==============================] - 5s 114ms/step - loss: 1.4939 - accuracy: 0.4014 - val_loss: 1.7733 - val_accuracy: 0.3732\n",
            "Epoch 5/50\n",
            "46/46 [==============================] - 6s 136ms/step - loss: 1.4635 - accuracy: 0.4212 - val_loss: 1.9026 - val_accuracy: 0.1831\n",
            "Epoch 6/50\n",
            "46/46 [==============================] - 5s 115ms/step - loss: 1.3948 - accuracy: 0.4575 - val_loss: 1.9277 - val_accuracy: 0.3732\n",
            "Epoch 7/50\n",
            "46/46 [==============================] - 6s 137ms/step - loss: 1.3413 - accuracy: 0.4890 - val_loss: 2.0566 - val_accuracy: 0.1972\n",
            "Epoch 8/50\n",
            "46/46 [==============================] - 5s 114ms/step - loss: 1.2725 - accuracy: 0.5096 - val_loss: 1.9119 - val_accuracy: 0.3310\n",
            "Epoch 9/50\n",
            "46/46 [==============================] - 6s 132ms/step - loss: 1.2474 - accuracy: 0.5116 - val_loss: 1.8935 - val_accuracy: 0.3169\n",
            "Epoch 10/50\n",
            "46/46 [==============================] - 5s 116ms/step - loss: 1.1664 - accuracy: 0.5425 - val_loss: 2.2628 - val_accuracy: 0.1972\n",
            "Epoch 11/50\n",
            "46/46 [==============================] - 5s 119ms/step - loss: 1.1801 - accuracy: 0.5377 - val_loss: 2.0562 - val_accuracy: 0.3521\n",
            "Epoch 12/50\n",
            "46/46 [==============================] - 6s 130ms/step - loss: 1.2234 - accuracy: 0.5329 - val_loss: 1.9734 - val_accuracy: 0.2606\n",
            "Epoch 13/50\n",
            "46/46 [==============================] - 5s 114ms/step - loss: 1.0520 - accuracy: 0.6014 - val_loss: 2.4739 - val_accuracy: 0.1690\n",
            "Epoch 14/50\n",
            "46/46 [==============================] - 6s 138ms/step - loss: 1.0445 - accuracy: 0.5863 - val_loss: 2.7767 - val_accuracy: 0.1690\n",
            "Epoch 15/50\n",
            "46/46 [==============================] - 5s 114ms/step - loss: 0.9646 - accuracy: 0.6260 - val_loss: 2.3583 - val_accuracy: 0.2958\n",
            "Epoch 16/50\n",
            "46/46 [==============================] - 6s 135ms/step - loss: 0.9529 - accuracy: 0.6123 - val_loss: 2.7013 - val_accuracy: 0.1549\n",
            "Epoch 17/50\n",
            "46/46 [==============================] - 5s 115ms/step - loss: 0.8118 - accuracy: 0.6801 - val_loss: 2.6783 - val_accuracy: 0.2958\n",
            "Epoch 18/50\n",
            "46/46 [==============================] - 6s 129ms/step - loss: 0.8395 - accuracy: 0.6815 - val_loss: 2.7169 - val_accuracy: 0.3028\n",
            "Epoch 19/50\n",
            "46/46 [==============================] - 6s 124ms/step - loss: 0.7736 - accuracy: 0.6863 - val_loss: 2.7829 - val_accuracy: 0.1761\n",
            "Epoch 20/50\n",
            "46/46 [==============================] - 5s 117ms/step - loss: 0.7446 - accuracy: 0.7055 - val_loss: 3.1536 - val_accuracy: 0.2676\n",
            "Epoch 21/50\n",
            "46/46 [==============================] - 6s 137ms/step - loss: 0.6701 - accuracy: 0.7267 - val_loss: 3.2830 - val_accuracy: 0.2465\n",
            "Epoch 22/50\n",
            "46/46 [==============================] - 5s 118ms/step - loss: 0.6909 - accuracy: 0.7370 - val_loss: 3.1986 - val_accuracy: 0.2535\n",
            "Epoch 23/50\n",
            "46/46 [==============================] - 6s 139ms/step - loss: 0.6505 - accuracy: 0.7329 - val_loss: 3.6149 - val_accuracy: 0.1901\n",
            "Epoch 24/50\n",
            "46/46 [==============================] - 5s 118ms/step - loss: 0.6814 - accuracy: 0.7267 - val_loss: 3.2261 - val_accuracy: 0.3451\n",
            "Epoch 25/50\n",
            "46/46 [==============================] - 7s 142ms/step - loss: 0.7009 - accuracy: 0.7171 - val_loss: 3.7089 - val_accuracy: 0.1831\n",
            "Epoch 26/50\n",
            "46/46 [==============================] - 5s 118ms/step - loss: 0.6474 - accuracy: 0.7363 - val_loss: 3.5324 - val_accuracy: 0.2254\n",
            "Epoch 27/50\n",
            "46/46 [==============================] - 6s 141ms/step - loss: 0.5881 - accuracy: 0.7610 - val_loss: 3.3918 - val_accuracy: 0.3099\n",
            "Epoch 28/50\n",
            "46/46 [==============================] - 6s 119ms/step - loss: 0.5487 - accuracy: 0.7856 - val_loss: 3.9818 - val_accuracy: 0.1831\n",
            "Epoch 29/50\n",
            "46/46 [==============================] - 6s 128ms/step - loss: 0.5953 - accuracy: 0.7548 - val_loss: 3.5731 - val_accuracy: 0.3239\n",
            "Epoch 30/50\n",
            "46/46 [==============================] - 6s 132ms/step - loss: 0.5589 - accuracy: 0.7849 - val_loss: 3.9061 - val_accuracy: 0.2606\n",
            "Epoch 31/50\n",
            "46/46 [==============================] - 5s 115ms/step - loss: 0.4568 - accuracy: 0.8240 - val_loss: 3.4651 - val_accuracy: 0.2535\n",
            "Epoch 32/50\n",
            "46/46 [==============================] - 6s 138ms/step - loss: 0.4629 - accuracy: 0.8014 - val_loss: 3.9911 - val_accuracy: 0.2183\n",
            "Epoch 33/50\n",
            "46/46 [==============================] - 5s 116ms/step - loss: 0.5107 - accuracy: 0.7986 - val_loss: 3.3408 - val_accuracy: 0.2887\n",
            "Epoch 34/50\n",
            "46/46 [==============================] - 6s 138ms/step - loss: 0.5160 - accuracy: 0.7890 - val_loss: 3.8371 - val_accuracy: 0.1901\n",
            "Epoch 35/50\n",
            "46/46 [==============================] - 5s 115ms/step - loss: 0.5107 - accuracy: 0.7952 - val_loss: 3.7868 - val_accuracy: 0.2958\n",
            "Epoch 36/50\n",
            "46/46 [==============================] - 7s 158ms/step - loss: 0.5761 - accuracy: 0.7726 - val_loss: 3.2175 - val_accuracy: 0.2535\n",
            "Epoch 37/50\n",
            "46/46 [==============================] - 5s 114ms/step - loss: 0.4867 - accuracy: 0.8007 - val_loss: 3.6416 - val_accuracy: 0.2887\n",
            "Epoch 38/50\n",
            "46/46 [==============================] - 6s 131ms/step - loss: 0.4139 - accuracy: 0.8260 - val_loss: 4.3367 - val_accuracy: 0.2958\n",
            "Epoch 39/50\n",
            "46/46 [==============================] - 5s 117ms/step - loss: 0.4546 - accuracy: 0.8151 - val_loss: 3.7077 - val_accuracy: 0.2606\n",
            "Epoch 40/50\n",
            "46/46 [==============================] - 5s 118ms/step - loss: 0.4056 - accuracy: 0.8281 - val_loss: 4.5131 - val_accuracy: 0.2183\n",
            "Epoch 41/50\n",
            "46/46 [==============================] - 6s 135ms/step - loss: 0.4439 - accuracy: 0.8082 - val_loss: 3.2909 - val_accuracy: 0.3239\n",
            "Epoch 42/50\n",
            "46/46 [==============================] - 5s 117ms/step - loss: 0.3932 - accuracy: 0.8336 - val_loss: 4.2704 - val_accuracy: 0.2535\n",
            "Epoch 43/50\n",
            "46/46 [==============================] - 6s 139ms/step - loss: 0.3815 - accuracy: 0.8418 - val_loss: 4.5331 - val_accuracy: 0.3169\n",
            "Epoch 44/50\n",
            "46/46 [==============================] - 6s 142ms/step - loss: 0.3909 - accuracy: 0.8384 - val_loss: 4.1430 - val_accuracy: 0.2254\n",
            "Epoch 45/50\n",
            "46/46 [==============================] - 6s 141ms/step - loss: 0.3774 - accuracy: 0.8390 - val_loss: 4.4605 - val_accuracy: 0.2042\n",
            "Epoch 46/50\n",
            "46/46 [==============================] - 5s 115ms/step - loss: 0.4532 - accuracy: 0.8171 - val_loss: 4.5491 - val_accuracy: 0.1972\n",
            "Epoch 47/50\n",
            "46/46 [==============================] - 6s 138ms/step - loss: 0.4144 - accuracy: 0.8253 - val_loss: 4.3514 - val_accuracy: 0.2746\n",
            "Epoch 48/50\n",
            "46/46 [==============================] - 5s 114ms/step - loss: 0.3358 - accuracy: 0.8555 - val_loss: 4.3309 - val_accuracy: 0.2394\n",
            "Epoch 49/50\n",
            "46/46 [==============================] - 6s 131ms/step - loss: 0.5686 - accuracy: 0.7712 - val_loss: 4.1515 - val_accuracy: 0.2113\n",
            "Epoch 50/50\n",
            "46/46 [==============================] - 6s 119ms/step - loss: 0.3939 - accuracy: 0.8288 - val_loss: 4.0318 - val_accuracy: 0.2958\n"
          ]
        }
      ],
      "source": [
        "# train the model\n",
        "history = model.fit(train_features, train_labels, epochs=50, validation_data=(val_features, val_labels))"
      ]
    },
    {
      "cell_type": "code",
      "execution_count": null,
      "metadata": {
        "id": "TaKxu_Vvchfq"
      },
      "outputs": [],
      "source": [
        "# evaluate the model on the test set\n",
        "test_loss, test_acc = model.evaluate(test_features, test_labels)\n",
        "print('Test accuracy:', test_acc)"
      ]
    },
    {
      "cell_type": "code",
      "execution_count": null,
      "metadata": {
        "id": "a49bCTmPckfU"
      },
      "outputs": [],
      "source": [
        "# predict the labels for the test set\n",
        "predictions = model.predict(test_features)\n"
      ]
    },
    {
      "cell_type": "code",
      "execution_count": null,
      "metadata": {
        "id": "1Fp1qzcecnEV"
      },
      "outputs": [],
      "source": [
        "# print the classification report\n",
        "print(classification_report(test_labels, predictions.argmax(axis=1)))\n"
      ]
    }
  ],
  "metadata": {
    "colab": {
      "provenance": []
    },
    "kernelspec": {
      "display_name": "Python 3",
      "name": "python3"
    },
    "language_info": {
      "name": "python"
    }
  },
  "nbformat": 4,
  "nbformat_minor": 0
}