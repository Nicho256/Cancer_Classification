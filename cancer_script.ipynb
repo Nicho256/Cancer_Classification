{
 "cells": [
  {
   "cell_type": "code",
   "execution_count": 1,
   "metadata": {},
   "outputs": [],
   "source": [
    "import numpy as np\n",
    "import cv2\n",
    "import os\n",
    "import json"
   ]
  },
  {
   "cell_type": "code",
   "execution_count": 2,
   "metadata": {},
   "outputs": [],
   "source": [
    "from sklearn.neighbors import KNeighborsClassifier\n",
    "import xgboost as xgb\n",
    "from sklearn.model_selection import cross_val_score\n",
    "from tensorflow.keras.models import Sequential\n",
    "from tensorflow.keras.layers import Conv2D, MaxPooling2D, Flatten, Dense"
   ]
  },
  {
   "cell_type": "code",
   "execution_count": 3,
   "metadata": {},
   "outputs": [],
   "source": [
    "train_data_path=\"/Users/Giles/Desktop/nicho/data/testData/train/\"\n",
    "test_data_path=\"/Users/Giles/Desktop/nicho/data/testData/test/\"\n",
    "valid_data_path=\"/Users/Giles/Desktop/nicho/data/testData/valid/\"\n",
    "base_data_path=\"/Users/Giles/Desktop/nicho/data/testData/\"\n"
   ]
  },
  {
   "cell_type": "code",
   "execution_count": 46,
   "metadata": {},
   "outputs": [],
   "source": [
    "path=\"/Users/Giles/Desktop/nicho/data/testData/train/\"\n",
    "\n",
    "#get list of subdirectories in path\n",
    "folders=[f.path for f in os.scandir(path) if f.is_dir() ]\n",
    "\n",
    "#initialize arrays to store image data and labels\n",
    "data=[]\n",
    "labels=[]\n",
    "label_arr=[] #labels of folders\n",
    "#iterate through each folder\n",
    "for folder in folders:\n",
    "    #get a list of all the images in the folder\n",
    "    images=[img for img in os.listdir(folder) if img.endswith('.jpg') or img.endswith('.png')]\n",
    "\n",
    "    #get label for current folder\n",
    "    label=os.path.basename(folder)\n",
    "    label_arr.append(label)\n",
    "    #iterate through each image in the folder\n",
    "    for image in images:\n",
    "\n",
    "        #load the image\n",
    "        img=cv2.imread(os.path.join(folder,image))\n",
    "\n",
    "        #resize the images to uniform size       \n",
    "        img=cv2.resize(img, (250,250),interpolation=cv2.INTER_LINEAR)\n",
    "\n",
    "        ##viewing the images\n",
    "        #cv2.imshow('pic', img)\n",
    "        #cv2.waitKey(0)\n",
    "\n",
    "        # Extract features from the image\n",
    "        hist = cv2.calcHist([img], [0], None, [256], [0, 256])\n",
    "        hist=hist/np.sum(hist)\n",
    "        features = hist.flatten()\n",
    "\n",
    "        # Optimize the features using XGBoost\n",
    "        xgb_model = xgb.XGBRegressor()\n",
    "        xgb_model.fit(features.reshape(-1, 1), np.zeros(features.shape[0]))\n",
    "\n",
    "        #append the image data and label to the arrays\n",
    "        data.append(features)\n",
    "        labels.append(label)\n",
    "        \n",
    "\n",
    "#convert data and labels to numpy arrays\n",
    "data=np.array(data)\n",
    "labels=np.array(labels)\n",
    "\n"
   ]
  },
  {
   "cell_type": "code",
   "execution_count": 47,
   "metadata": {},
   "outputs": [],
   "source": [
    "### trying to change the labels array to the foldernames that indicate type of cancer \n",
    "# and hence use the dictionary to change them to integers\n",
    "\n",
    "for filename in os.listdir(path):\n",
    "    file_path = os.path.join(path, filename)\n",
    "    # make sure we're only working with files and not subdirectories\n",
    "    if os.path.isfile(file_path):\n",
    "        # open the file and read the label\n",
    "        with open(file_path, 'r') as file:\n",
    "            label = file.read()\n",
    "        # write the folder name to the file\n",
    "        with open(file_path, 'w') as file:\n",
    "            file.write(folder_name)"
   ]
  },
  {
   "cell_type": "code",
   "execution_count": 48,
   "metadata": {},
   "outputs": [
    {
     "name": "stdout",
     "output_type": "stream",
     "text": [
      "{0: 'adenocarcinoma_left.lower.lobe_T2_N0_M0_Ib', 1: 'Bengin cases', 2: 'large.cell.carcinoma_left.hilum_T2_N2_M0_IIIa', 3: 'Malignant cases', 4: 'normal', 5: 'squamous.cell.carcinoma_left.hilum_T1_N2_M0_IIIa'}\n"
     ]
    }
   ],
   "source": [
    "#dictionary to respresent folder names as integers\n",
    "label_index={}\n",
    "for i in range(len(label_arr)):\n",
    "    label_index[i]=label_arr[i]\n",
    "    \n",
    "print(label_index)\n"
   ]
  },
  {
   "cell_type": "code",
   "execution_count": 49,
   "metadata": {},
   "outputs": [
    {
     "name": "stdout",
     "output_type": "stream",
     "text": [
      "{'adenocarcinoma_left.lower.lobe_T2_N0_M0_Ib': 0, 'Bengin cases': 1, 'large.cell.carcinoma_left.hilum_T2_N2_M0_IIIa': 2, 'Malignant cases': 3, 'normal': 4, 'squamous.cell.carcinoma_left.hilum_T1_N2_M0_IIIa': 5}\n"
     ]
    }
   ],
   "source": [
    "reverse_label_index = {v: k for k, v in label_index.items()}\n",
    "print(reverse_label_index)"
   ]
  },
  {
   "cell_type": "code",
   "execution_count": 52,
   "metadata": {},
   "outputs": [
    {
     "name": "stdout",
     "output_type": "stream",
     "text": [
      "adenocarcinoma_left.lower.lobe_T2_N0_M0_Ib\n"
     ]
    }
   ],
   "source": [
    "print(labels[46])"
   ]
  },
  {
   "cell_type": "code",
   "execution_count": 51,
   "metadata": {},
   "outputs": [
    {
     "ename": "KeyError",
     "evalue": "'adenocarcinoma_left.lower.lobe_T2_N0_M0_Ib'",
     "output_type": "error",
     "traceback": [
      "\u001b[1;31m---------------------------------------------------------------------------\u001b[0m",
      "\u001b[1;31mKeyError\u001b[0m                                  Traceback (most recent call last)",
      "Cell \u001b[1;32mIn[51], line 4\u001b[0m\n\u001b[0;32m      1\u001b[0m \u001b[39m##produces error due to non existent value in dictionary since its reading files in folder\u001b[39;00m\n\u001b[0;32m      2\u001b[0m \u001b[39m## stil trying tosolve this\u001b[39;00m\n\u001b[0;32m      3\u001b[0m \u001b[39mfor\u001b[39;00m i, string \u001b[39min\u001b[39;00m \u001b[39menumerate\u001b[39m(labels):\n\u001b[1;32m----> 4\u001b[0m     labels[i] \u001b[39m=\u001b[39m label_index[string]\n",
      "\u001b[1;31mKeyError\u001b[0m: 'adenocarcinoma_left.lower.lobe_T2_N0_M0_Ib'"
     ]
    }
   ],
   "source": [
    "##produces error due to non existent value in dictionary since its reading files in folder\n",
    "## stil trying tosolve this\n",
    "for i, string in enumerate(labels):\n",
    "    labels[i] = label_index[string]"
   ]
  },
  {
   "cell_type": "code",
   "execution_count": 41,
   "metadata": {},
   "outputs": [
    {
     "data": {
      "text/html": [
       "<style>#sk-container-id-1 {color: black;background-color: white;}#sk-container-id-1 pre{padding: 0;}#sk-container-id-1 div.sk-toggleable {background-color: white;}#sk-container-id-1 label.sk-toggleable__label {cursor: pointer;display: block;width: 100%;margin-bottom: 0;padding: 0.3em;box-sizing: border-box;text-align: center;}#sk-container-id-1 label.sk-toggleable__label-arrow:before {content: \"▸\";float: left;margin-right: 0.25em;color: #696969;}#sk-container-id-1 label.sk-toggleable__label-arrow:hover:before {color: black;}#sk-container-id-1 div.sk-estimator:hover label.sk-toggleable__label-arrow:before {color: black;}#sk-container-id-1 div.sk-toggleable__content {max-height: 0;max-width: 0;overflow: hidden;text-align: left;background-color: #f0f8ff;}#sk-container-id-1 div.sk-toggleable__content pre {margin: 0.2em;color: black;border-radius: 0.25em;background-color: #f0f8ff;}#sk-container-id-1 input.sk-toggleable__control:checked~div.sk-toggleable__content {max-height: 200px;max-width: 100%;overflow: auto;}#sk-container-id-1 input.sk-toggleable__control:checked~label.sk-toggleable__label-arrow:before {content: \"▾\";}#sk-container-id-1 div.sk-estimator input.sk-toggleable__control:checked~label.sk-toggleable__label {background-color: #d4ebff;}#sk-container-id-1 div.sk-label input.sk-toggleable__control:checked~label.sk-toggleable__label {background-color: #d4ebff;}#sk-container-id-1 input.sk-hidden--visually {border: 0;clip: rect(1px 1px 1px 1px);clip: rect(1px, 1px, 1px, 1px);height: 1px;margin: -1px;overflow: hidden;padding: 0;position: absolute;width: 1px;}#sk-container-id-1 div.sk-estimator {font-family: monospace;background-color: #f0f8ff;border: 1px dotted black;border-radius: 0.25em;box-sizing: border-box;margin-bottom: 0.5em;}#sk-container-id-1 div.sk-estimator:hover {background-color: #d4ebff;}#sk-container-id-1 div.sk-parallel-item::after {content: \"\";width: 100%;border-bottom: 1px solid gray;flex-grow: 1;}#sk-container-id-1 div.sk-label:hover label.sk-toggleable__label {background-color: #d4ebff;}#sk-container-id-1 div.sk-serial::before {content: \"\";position: absolute;border-left: 1px solid gray;box-sizing: border-box;top: 0;bottom: 0;left: 50%;z-index: 0;}#sk-container-id-1 div.sk-serial {display: flex;flex-direction: column;align-items: center;background-color: white;padding-right: 0.2em;padding-left: 0.2em;position: relative;}#sk-container-id-1 div.sk-item {position: relative;z-index: 1;}#sk-container-id-1 div.sk-parallel {display: flex;align-items: stretch;justify-content: center;background-color: white;position: relative;}#sk-container-id-1 div.sk-item::before, #sk-container-id-1 div.sk-parallel-item::before {content: \"\";position: absolute;border-left: 1px solid gray;box-sizing: border-box;top: 0;bottom: 0;left: 50%;z-index: -1;}#sk-container-id-1 div.sk-parallel-item {display: flex;flex-direction: column;z-index: 1;position: relative;background-color: white;}#sk-container-id-1 div.sk-parallel-item:first-child::after {align-self: flex-end;width: 50%;}#sk-container-id-1 div.sk-parallel-item:last-child::after {align-self: flex-start;width: 50%;}#sk-container-id-1 div.sk-parallel-item:only-child::after {width: 0;}#sk-container-id-1 div.sk-dashed-wrapped {border: 1px dashed gray;margin: 0 0.4em 0.5em 0.4em;box-sizing: border-box;padding-bottom: 0.4em;background-color: white;}#sk-container-id-1 div.sk-label label {font-family: monospace;font-weight: bold;display: inline-block;line-height: 1.2em;}#sk-container-id-1 div.sk-label-container {text-align: center;}#sk-container-id-1 div.sk-container {/* jupyter's `normalize.less` sets `[hidden] { display: none; }` but bootstrap.min.css set `[hidden] { display: none !important; }` so we also need the `!important` here to be able to override the default hidden behavior on the sphinx rendered scikit-learn.org. See: https://github.com/scikit-learn/scikit-learn/issues/21755 */display: inline-block !important;position: relative;}#sk-container-id-1 div.sk-text-repr-fallback {display: none;}</style><div id=\"sk-container-id-1\" class=\"sk-top-container\"><div class=\"sk-text-repr-fallback\"><pre>KNeighborsClassifier()</pre><b>In a Jupyter environment, please rerun this cell to show the HTML representation or trust the notebook. <br />On GitHub, the HTML representation is unable to render, please try loading this page with nbviewer.org.</b></div><div class=\"sk-container\" hidden><div class=\"sk-item\"><div class=\"sk-estimator sk-toggleable\"><input class=\"sk-toggleable__control sk-hidden--visually\" id=\"sk-estimator-id-1\" type=\"checkbox\" checked><label for=\"sk-estimator-id-1\" class=\"sk-toggleable__label sk-toggleable__label-arrow\">KNeighborsClassifier</label><div class=\"sk-toggleable__content\"><pre>KNeighborsClassifier()</pre></div></div></div></div></div>"
      ],
      "text/plain": [
       "KNeighborsClassifier()"
      ]
     },
     "execution_count": 41,
     "metadata": {},
     "output_type": "execute_result"
    }
   ],
   "source": [
    "#KNN\n",
    "knn = KNeighborsClassifier()\n",
    "knn.fit(data, labels)"
   ]
  },
  {
   "cell_type": "code",
   "execution_count": null,
   "metadata": {},
   "outputs": [],
   "source": [
    "#CNN\n",
    "model = Sequential()\n",
    "model.add(Conv2D(32, kernel_size=(3, 3), activation='relu', input_shape=(1460,256,1)))\n",
    "model.add(MaxPooling2D(pool_size=(2, 2)))\n",
    "model.add(Flatten())\n",
    "model.add(Dense(128, activation='relu'))\n",
    "model.add(Dense(num_classes, activation='softmax'))\n",
    "model.compile(loss='categorical_crossentropy', optimizer='adam', metrics=['accuracy'])\n",
    "model.fit(data, labels, epochs=10, batch_size=32, validation_split=0.2)"
   ]
  }
 ],
 "metadata": {
  "kernelspec": {
   "display_name": "Python 3",
   "language": "python",
   "name": "python3"
  },
  "language_info": {
   "codemirror_mode": {
    "name": "ipython",
    "version": 3
   },
   "file_extension": ".py",
   "mimetype": "text/x-python",
   "name": "python",
   "nbconvert_exporter": "python",
   "pygments_lexer": "ipython3",
   "version": "3.8.10"
  },
  "orig_nbformat": 4,
  "vscode": {
   "interpreter": {
    "hash": "fedae178e74508d05e0aac68472dd3d33b269b7b32b4fb544a721a0ac769cd67"
   }
  }
 },
 "nbformat": 4,
 "nbformat_minor": 2
}
